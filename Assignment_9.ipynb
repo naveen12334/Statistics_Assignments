{
 "cells": [
  {
   "cell_type": "markdown",
   "id": "b7784029",
   "metadata": {},
   "source": [
    "# 1. You are going to play 2 games of chess with an opponent whom you have never played against before (for the sake of this problem). Your opponent is equally likely to be a beginner, intermediate, or a master. Depending on\n",
    "\n",
    "(a) What is your probability of winning the first game?\n",
    "\n",
    "(b) Congratulations: you won the first game! Given this information, what is the probability\n",
    "\n",
    "that you will also win the second game\n",
    "\n",
    "(c) Explain the distinction between assuming that the outcomes of the games are independent and assuming that they are conditionally independent given the opponent’s skill level. Which of these assumptions seems more reasonable, and why?"
   ]
  },
  {
   "cell_type": "markdown",
   "id": "22a3118c",
   "metadata": {},
   "source": [
    "Ans->\n",
    "(a)Let Wi be the event of winning the ith game. By the law of total probability,\n",
    "\n",
    "P(W1) = (0.9+0.5+0.3)/3 = 17/30"
   ]
  },
  {
   "cell_type": "markdown",
   "id": "e4db2635",
   "metadata": {},
   "source": [
    "(b)\n",
    "We have P(W2|W1) = P(W2, W1)/P(W1). The denominator is known from\n",
    "(a), while the numerator can be found by conditioning on the skill level of the\n",
    "opponent:\n",
    "    \n",
    "P(W1, W2) = 1\n",
    "\n",
    "3\n",
    "\n",
    "P(W1, W2|beginner)+1\n",
    "\n",
    "3\n",
    "\n",
    "P(W1, W2|intermediate)+1\n",
    "\n",
    "3\n",
    "\n",
    "P(W1, W2|expert).\n",
    "\n",
    "Since W1 and W2 are conditionally independent given the skill level of the\n",
    "opponent, this becomes\n",
    "\n",
    "P(W1, W2) = (0.92 + 0.52 + 0.32\n",
    "             \n",
    ")/3 = 23/60.\n",
    "\n",
    "So\n",
    "\n",
    "P(W2|W1) = 23/60\n",
    "\n",
    "17/30\n",
    "\n",
    "= 23/34."
   ]
  }
 ],
 "metadata": {
  "kernelspec": {
   "display_name": "Python 3 (ipykernel)",
   "language": "python",
   "name": "python3"
  },
  "language_info": {
   "codemirror_mode": {
    "name": "ipython",
    "version": 3
   },
   "file_extension": ".py",
   "mimetype": "text/x-python",
   "name": "python",
   "nbconvert_exporter": "python",
   "pygments_lexer": "ipython3",
   "version": "3.7.11"
  }
 },
 "nbformat": 4,
 "nbformat_minor": 5
}
