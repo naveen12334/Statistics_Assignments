{
 "cells": [
  {
   "cell_type": "markdown",
   "id": "ee73411e",
   "metadata": {},
   "source": [
    "# 1. A spam filter is designed by looking at commonly occurring phrases in spam. Suppose that\n",
    "80% of email is spam. In 10% of the spam emails, the phrase “free money” is used, whereas\n",
    "this phrase is only used in 1% of non-spam emails. A new email has just arrived, which does\n",
    "mention “free money”. What is the probability that it is spam?"
   ]
  },
  {
   "cell_type": "markdown",
   "id": "874cefc5",
   "metadata": {},
   "source": [
    "Ans->\n",
    "A:The event email is spam\n",
    "\n",
    "B: The event of email has free memory space\n",
    "\n",
    "P(A|B) = P(B|A) * P(A)/P(B)\n",
    "\n",
    " \n",
    "\n",
    "0.1/0.8/(0.1*0.8)+(0.01*0.2)\n",
    "\n",
    " = 80/82"
   ]
  }
 ],
 "metadata": {
  "kernelspec": {
   "display_name": "Python 3 (ipykernel)",
   "language": "python",
   "name": "python3"
  },
  "language_info": {
   "codemirror_mode": {
    "name": "ipython",
    "version": 3
   },
   "file_extension": ".py",
   "mimetype": "text/x-python",
   "name": "python",
   "nbconvert_exporter": "python",
   "pygments_lexer": "ipython3",
   "version": "3.7.11"
  }
 },
 "nbformat": 4,
 "nbformat_minor": 5
}
