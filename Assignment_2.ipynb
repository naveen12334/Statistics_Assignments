{
 "cells": [
  {
   "cell_type": "markdown",
   "id": "7f07d180",
   "metadata": {},
   "source": [
    "# 1. Raindrops are falling at an average rate of 20 drops per square inch per minute. What would be a reasonable distribution to use for the number of raindrops hitting a particular region measuring 5 inches2 in t minutes? Why? Using your chosen distribution, compute the probability that the region has no rain drops in a given 3 second time interval. A reasonable choice of distribution is P"
   ]
  },
  {
   "cell_type": "markdown",
   "id": "f8dd8717",
   "metadata": {},
   "source": [
    "Ans->In this case we are using Poisson distribution because in Poisson distribution we search for how many ties no of event take place."
   ]
  },
  {
   "cell_type": "markdown",
   "id": "27c8bea4",
   "metadata": {},
   "source": [
    "so firstly we are finding in how much minutes how many rainfall fall.\n",
    "\n",
    "t*no of drops*inches = t * lambda = t * 20* 5 = 100t\n",
    "\n",
    "so we find that there are 100 drops for 5 square inches.\n",
    "\n",
    "20 has been chosen as it is being mentioned the region has no rain drops in a given 3second time interval. 20 in 1 minute or 60 seconds calculation.\n",
    "\n",
    "P(X=0) = ((100/20)^0/0!)*e^-100/20 = e^-5"
   ]
  },
  {
   "cell_type": "markdown",
   "id": "4bd2d43a",
   "metadata": {},
   "source": [
    "# 2. Let X be a random day of the week, coded so that Monday is 1, Tuesday is 2, etc. (so X takes values 1, 2,..., 7, with equal probabilities). Let Y be the next day after X (again represented as an integer between 1 and 7). Do X and Y have the same distribution? What is P(X)"
   ]
  },
  {
   "cell_type": "markdown",
   "id": "625d4631",
   "metadata": {},
   "source": [
    "Ans->\n",
    "X    Y    P(X)     P(Y)\n",
    "\n",
    "1     2    1/7     1/7\n",
    "\n",
    "2     3    1/7     1/7 \n",
    "\n",
    "3    4    1/7      1/7\n",
    "\n",
    "4    5    1/7      1/7\n",
    "\n",
    "5    6    1/7     1/7\n",
    "\n",
    "6   7    1/7      1/7\n",
    "\n",
    "Follow same distribution as X and Y are having similar data distribution or you can say same probabilities\n",
    "\n",
    "Here, P(X<Y) = 1/7+1/7+1/7+1/7+1/7+1/7 = 6/7"
   ]
  }
 ],
 "metadata": {
  "kernelspec": {
   "display_name": "Python 3 (ipykernel)",
   "language": "python",
   "name": "python3"
  },
  "language_info": {
   "codemirror_mode": {
    "name": "ipython",
    "version": 3
   },
   "file_extension": ".py",
   "mimetype": "text/x-python",
   "name": "python",
   "nbconvert_exporter": "python",
   "pygments_lexer": "ipython3",
   "version": "3.7.11"
  }
 },
 "nbformat": 4,
 "nbformat_minor": 5
}
