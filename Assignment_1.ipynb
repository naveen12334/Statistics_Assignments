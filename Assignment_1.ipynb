{
 "cells": [
  {
   "cell_type": "markdown",
   "id": "00d0fa24",
   "metadata": {},
   "source": [
    "# 1. Harvard Law School courses often have assigned seating to facilitate the “Socratic method.”\n",
    "\n",
    "Suppose that there are 100 first year Harvard Law students, and each takes two courses:\n",
    "\n",
    "Torts and Contracts. Both are held in the same lecture hall (which has 100 seats), and the\n",
    "seating is uniformly random and independent for the two courses.\n",
    "\n",
    "(a) Find the probability that no one has the same seat for both courses (exactly; you should\n",
    "leave your answer as a sum).\n",
    "\n",
    "(b) Find a simple but accurate approximation to the probability that no one has the same\n",
    "seat for both courses.\n",
    "\n",
    "(c) Find a simple but accurate approximation to the probability that at least two students\n",
    "have the same seat for both courses."
   ]
  },
  {
   "cell_type": "markdown",
   "id": "9fc35022",
   "metadata": {},
   "source": [
    "Ans->\n",
    "(a)A random variable X that marks the number of students that take the same seat in both classes. If we denote with Sj that jth student has the same seat, we have following\n",
    "\n",
    "P(X=0)=1-P(X>=1)=1-P(UjSj)\n",
    "\n",
    "Using the inclusion-exclusion formula and the symmetry,we have\n",
    "\n",
    "P(UjSj)= {j(-1)^j-1(100j)P(Uj k=1 ^Sk)\n",
    "\n",
    "The probability that first j students sit on their seats is  simply (100-j)!/100!\n",
    "\n",
    "Thus we have \n",
    "\n",
    "P(UjSj)= {j(-1)^j-1(100j)(100-j)!/100!={100 j=1^(-1)^j-1/j!\n",
    "\n",
    "Finally,\n",
    "\n",
    "P(X=0)=1-{100,j=1^(-1)^j-1/j!={100,j=0^(-1)^j/j!\n"
   ]
  },
  {
   "cell_type": "markdown",
   "id": "9748c972",
   "metadata": {},
   "source": [
    "(b)A indicator random variables Ij that indicates if Sj has occurred,we have\n",
    "\n",
    "X={Ij^100,j=1\n",
    "\n",
    "We know that P(Ij) = 1/100 and that we can approximate\n",
    "\n",
    "P((Ij = 1) U(Ik=1)) = 1/100.1/99 ~~ (1/100)^2 = P(Ij=1)P(Ik=1)\n",
    "\n",
    "so,we can consider them as independent random variables.Next we can approximate X with Poisson distribution with parameter lambda = E(X) = 100E(I1) = 1.So,we have\n",
    "\n",
    "P(X=0) ~~ 1^0/0! e^-1 ~~ 0.37"
   ]
  },
  {
   "cell_type": "markdown",
   "id": "151fd821",
   "metadata": {},
   "source": [
    "(c) Using Poisson approximation to finally obtain that\n",
    "\n",
    "P(X >=2) = 1-P(X=0)-P(X=1) ~~ 1-e^-1 -e^-1 = 1-2e^-1~~ 0.26"
   ]
  },
  {
   "cell_type": "markdown",
   "id": "ff1ff86e",
   "metadata": {},
   "source": [
    "# 2. There are 100 passengers lined up to board an airplane with 100 seats (with each seat assigned to one of the passengers). The first passenger in line crazily decides to sit in a randomly chosen seat (with all seats equally likely). Each subsequent passenger takes his or her assigned seat if available, and otherwise sits in a random available seat. What is the probability that the last passenger in line gets to sit in his or her assigned seat?"
   ]
  },
  {
   "cell_type": "markdown",
   "id": "9f9ac8c5",
   "metadata": {},
   "source": [
    "Ans->\n",
    "Let’s first consider a special case where there are only 2 people (Ram and Karan) and 2 seats on the airplane. Ram picks a seat at random. The only way Karan gets to pick his designated seat is if Ram correctly picks hers. Since there are only 2 choices for Ram she picks her own seat correctly with probability 1/21/2\n",
    "\n",
    "Therefore P(P( Karan gets his seat)=P()=P(Ram chooses her own seat)=1/2)=1/2\n",
    "\n",
    "Now lets consider one more special case where we now have 3 people (Alice, Bob and Carlos) boarding the flight in that order and Alice picking a random seat first up. In this scenario, Carlos gets to sit on his designated seat in one of the following two possibilities:\n",
    "\n",
    "Alice picks her own seat\n",
    "Alice picks Bob’s seat and Bob picks Alice’s seat.\n",
    "In all other cases the probability of Carlos picking his seat is 0. So we have :\n",
    "\n",
    "P(P( Carlos gets his seat )=P()=P( Alice picks her own seat )+P()+P( Alice picks Bob’s seat )∗P()∗P( Bob picks Alice’s seat))\n",
    "\n",
    "This reduces to :\n",
    "\n",
    "P(P( Carlos gets his seat )=1/3+(1/3)∗(1/2)=(1/3+1/6)=1/2."
   ]
  }
 ],
 "metadata": {
  "kernelspec": {
   "display_name": "Python 3 (ipykernel)",
   "language": "python",
   "name": "python3"
  },
  "language_info": {
   "codemirror_mode": {
    "name": "ipython",
    "version": 3
   },
   "file_extension": ".py",
   "mimetype": "text/x-python",
   "name": "python",
   "nbconvert_exporter": "python",
   "pygments_lexer": "ipython3",
   "version": "3.7.11"
  }
 },
 "nbformat": 4,
 "nbformat_minor": 5
}
