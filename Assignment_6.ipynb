{
 "cells": [
  {
   "cell_type": "markdown",
   "id": "5667a5f5",
   "metadata": {},
   "source": [
    "# Q->A group of n 2 people decide to play an exciting game of Rock-Paper Scissors. As you may recall, Rock smashes Scissors, Scissors cuts Paper, and Paper covers Rock (despite Bart Simpson saying “Good old rock, nothing beats that!”). Usually, this game is played with 2 players, but it can be extended to more players as follows. If exactly 2 of the 3 choices appear when everyone reveals their choice, say a, b 2 {Rock, P aper, Scissors} where a beats b, the game is decisive: the players who chose a win, and the players who chose b lose. Otherwise, the game is indecisive and the players play again. For example, with 5 players, if one player picks Rock, two pick Scissors, and two pick Paper, the round is indecisive and they play again. But if 3 pick Rock and 2 pick Scissors, then the Rock players win and the Scissors players lose the game. 1 Assume that the n players independently and randomly choose between Rock, Scissors, and Paper, with equal probabilities. Let X, Y, Z be the number of players who pick Rock, Scissors, Paper, respectively in one game. (a) Find the joint PMF of X, Y, Z.(b) Find the probability that the game is decisive. Simplify your answer (it should not involve a sum of many terms).(c) What is the probability that the game is decisive for n = 5? What is the limiting probability that a game is decisive as n ! 1? Explain briefly why your answer makes sense."
   ]
  },
  {
   "cell_type": "markdown",
   "id": "d785e15a",
   "metadata": {},
   "source": [
    "Ans->\n",
    "(a)The joint distribution of X, Y, Z is\n",
    "\n",
    "P(X = a, Y = b, Z = c) = n!\n",
    "\n",
    "a!b!c!\n",
    "\n",
    "✓1\n",
    "\n",
    "3\n",
    "\n",
    "◆a+b+c\n",
    "\n",
    "where a, b, c are any nonnegative integers with a+b+c = n, since (1/3)a+b+c is\n",
    "\n",
    "the probability of any specific configuration of choices for each player with the\n",
    "\n",
    "right numbers in each category, and the coecient in front counts the number\n",
    "\n",
    "of distinct ways to permute such a configuration.\n",
    "\n",
    "Alternatively, we can write the joint PMF as\n",
    "\n",
    "P(X = a, Y = b, Z = c) = P(X = a)P(Y = b|X = a)P(Z = c|X = a, Y = b),\n",
    "\n",
    "where for a + b + c = n, P(X = a) can be found from the Bin(n, 1/3) PMF,\n",
    "\n",
    "P(Y = b|X = a) can be found from the Bin(n  a, 1/2) PMF, and P(Z =\n",
    "\n",
    "c|X = a, Y = b) = 1.\n",
    "\n",
    "This is a Multinomial(n,( 1\n",
    "\n",
    "3 , 1\n",
    "\n",
    "3 , 1\n",
    "\n",
    "3 )). distribution."
   ]
  },
  {
   "cell_type": "markdown",
   "id": "546bd2f3",
   "metadata": {},
   "source": [
    "(b)\n",
    "The game is decisive if and only if exactly one of X, Y, Z is 0. These cases are disjoint so by symmetry, the probability is 3 times the probability that X is\n",
    "zero and Y and Z are nonzero. Note that if X = 0 and Y = k, then Z = nk.\n",
    "\n",
    "This gives\n",
    "\n",
    "P(decisive) = 3Xn1\n",
    "\n",
    "k=1\n",
    "\n",
    "n!\n",
    "\n",
    "0!k!(n  k)! ✓1\n",
    "\n",
    "3\n",
    "\n",
    "◆n\n",
    "\n",
    "= 3 ✓1\n",
    "\n",
    "3\n",
    "\n",
    "◆nXn1\n",
    "\n",
    "k=1\n",
    "\n",
    "✓n\n",
    "\n",
    "k\n",
    "\n",
    "◆\n",
    "\n",
    "= 2n  2\n",
    "\n",
    "3n1\n",
    "\n",
    "since Pn1\n",
    "\n",
    "k=1 n\n",
    "\n",
    "k\n",
    "\n",
    "= 1  1 +Pn\n",
    "\n",
    "k=0 n\n",
    "\n",
    "k\n",
    "\n",
    "= 2n  2 (by the binomial theorem or the\n",
    "\n",
    "fact that a set with n elements has 2n subsets). As a check, when n = 2 this\n",
    "reduces to 2/3, which makes sense since for 2 players, the game is decisive if\n",
    "and only if the two players do not pick the same choice.\n"
   ]
  },
  {
   "cell_type": "markdown",
   "id": "5b066c14",
   "metadata": {},
   "source": [
    "(c)\n",
    "For n = 5, the probability is (25  2)/34 = 30/81 ⇡ 0.37. As n ! 1, (2n\n",
    "2)/3n1 ! 0, which make sense since if the number of players is very large, it is\n",
    "very likely that there will be at least one of each of Rock, Paper, and Scissors."
   ]
  }
 ],
 "metadata": {
  "kernelspec": {
   "display_name": "Python 3 (ipykernel)",
   "language": "python",
   "name": "python3"
  },
  "language_info": {
   "codemirror_mode": {
    "name": "ipython",
    "version": 3
   },
   "file_extension": ".py",
   "mimetype": "text/x-python",
   "name": "python",
   "nbconvert_exporter": "python",
   "pygments_lexer": "ipython3",
   "version": "3.7.11"
  }
 },
 "nbformat": 4,
 "nbformat_minor": 5
}
