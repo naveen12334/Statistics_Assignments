{
 "cells": [
  {
   "cell_type": "markdown",
   "id": "b07a7097",
   "metadata": {},
   "source": [
    "# 1. A crime is committed by one of two suspects, A and B. Initially, there is equal evidence against both of them. In further investigation at the crime scene, it is found that the guilty party had a blood type found in 10% of the population. Suspect A does match this blood type, whereas the blood type of Suspect B is unknown. (a) Given this new information, what is the probability that A is the guilty party? (b) Given this new information, what is the probability that B’s blood type matches that found at the crime scene?"
   ]
  },
  {
   "cell_type": "markdown",
   "id": "37453827",
   "metadata": {},
   "source": [
    "Ans->\n",
    "\n",
    "A: {A is guilty}\n",
    "\n",
    "B: {B is Guilty}\n",
    "\n",
    "MA = {A's Blood matches the guilty party}\n",
    "\n",
    "MB = {B's Blood matches the guilty party}\n",
    "\n",
    "(a) we want to calculate P(A/MA) .Use Byes rule to Calculcate\n",
    "\n",
    "P(A/MA) =  P(MA|A)P(A)/P(MA|A)P(A)+P(MA|B)P(B) \n",
    "\n",
    "(1.1/2)/(1.1/2)+(1/10* 1/2) =  10/11\n",
    "\n",
    "(b) we wan to calculate P(MB/MA). Use Lots to obtain\n",
    "\n",
    "P(MB|MA) = P(MB|MA.A)P(A|MA)+P(MB/MB.A)P(B|MA)\n",
    "\n",
    "= 1/10*10/11 + 1.1/11 = 2/11"
   ]
  }
 ],
 "metadata": {
  "kernelspec": {
   "display_name": "Python 3 (ipykernel)",
   "language": "python",
   "name": "python3"
  },
  "language_info": {
   "codemirror_mode": {
    "name": "ipython",
    "version": 3
   },
   "file_extension": ".py",
   "mimetype": "text/x-python",
   "name": "python",
   "nbconvert_exporter": "python",
   "pygments_lexer": "ipython3",
   "version": "3.7.11"
  }
 },
 "nbformat": 4,
 "nbformat_minor": 5
}
